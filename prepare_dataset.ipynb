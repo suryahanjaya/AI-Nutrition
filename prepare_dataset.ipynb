{
 "cells": [
  {
   "cell_type": "code",
   "execution_count": 4,
   "id": "33436f95",
   "metadata": {},
   "outputs": [],
   "source": [
    "import os\n",
    "import tensorflow as tf\n",
    "from tensorflow.keras.preprocessing.image import ImageDataGenerator"
   ]
  },
  {
   "cell_type": "code",
   "execution_count": 5,
   "id": "13fcbbe4",
   "metadata": {},
   "outputs": [
    {
     "name": "stdout",
     "output_type": "stream",
     "text": [
      "Detected 31 classes:\n",
      "- Baked Potato\n",
      "- Bread\n",
      "- Burger\n",
      "- Cheese Cookies\n",
      "- Crescent Cookies\n",
      "- Crispy Chicken\n",
      "- Donut\n",
      "- Egg\n",
      "- Fried Chicken\n",
      "- Fried Fish\n",
      "- Fried Noodles\n",
      "- Fried Rice\n",
      "- Fried Spring Rolls\n",
      "- Fries\n",
      "- Gado-Gado\n",
      "- Hot Dog\n",
      "- Klepon\n",
      "- Layer Cake\n",
      "- Lumpur Cake\n",
      "- Padang Rice\n",
      "- Pasta\n",
      "- Pizza\n",
      "- Rawon\n",
      "- Rendang\n",
      "- Sandwich\n",
      "- Satay\n",
      "- Serabi\n",
      "- Soto\n",
      "- Sweet Coconut Pancake\n",
      "- Taco\n",
      "- Taquito\n",
      "Found 23329 images belonging to 31 classes.\n",
      "Found 4996 images belonging to 31 classes.\n"
     ]
    }
   ],
   "source": [
    "# Paths\n",
    "DATA_DIR    = r'C:\\Users\\ASUS ZENBOOK\\Desktop\\Dataset'\n",
    "TRAIN_DIR   = os.path.join(DATA_DIR, 'train')\n",
    "VAL_DIR     = os.path.join(DATA_DIR, 'validation')\n",
    "\n",
    "# Image dimensions and batch size\n",
    "IMG_HEIGHT, IMG_WIDTH = 224, 224\n",
    "BATCH_SIZE = 32\n",
    "\n",
    "# Automatically detect the number of classes\n",
    "class_names = os.listdir(TRAIN_DIR)  # Assuming classes are in the train directory\n",
    "num_classes = len(class_names)\n",
    "\n",
    "# Print detected classes vertically\n",
    "print(f\"Detected {num_classes} classes:\")\n",
    "for class_name in class_names:\n",
    "    print(f\"- {class_name}\")\n",
    "\n",
    "# Augmentation for training\n",
    "train_datagen = ImageDataGenerator(\n",
    "    rescale=1.0/255,\n",
    "    rotation_range=30,\n",
    "    width_shift_range=0.2,\n",
    "    height_shift_range=0.2,\n",
    "    shear_range=0.2,\n",
    "    zoom_range=0.2,\n",
    "    horizontal_flip=True,\n",
    "    fill_mode='nearest'\n",
    ")\n",
    "\n",
    "val_datagen = ImageDataGenerator(rescale=1.0/255)\n",
    "\n",
    "# Load datasets\n",
    "train_data = train_datagen.flow_from_directory(\n",
    "    TRAIN_DIR,\n",
    "    target_size=(IMG_HEIGHT, IMG_WIDTH),\n",
    "    batch_size=BATCH_SIZE,\n",
    "    class_mode='categorical'\n",
    ")\n",
    "\n",
    "val_data = val_datagen.flow_from_directory(\n",
    "    VAL_DIR,\n",
    "    target_size=(IMG_HEIGHT, IMG_WIDTH),\n",
    "    batch_size=BATCH_SIZE,\n",
    "    class_mode='categorical'\n",
    ")\n",
    "\n",
    "# Save class indices\n",
    "with open(\"class_indices.json\", \"w\") as f:\n",
    "    import json\n",
    "    json.dump(train_data.class_indices, f)"
   ]
  }
 ],
 "metadata": {
  "jupytext": {
   "cell_metadata_filter": "-all",
   "main_language": "python",
   "notebook_metadata_filter": "-all"
  },
  "kernelspec": {
   "display_name": "Python 3",
   "language": "python",
   "name": "python3"
  },
  "language_info": {
   "codemirror_mode": {
    "name": "ipython",
    "version": 3
   },
   "file_extension": ".py",
   "mimetype": "text/x-python",
   "name": "python",
   "nbconvert_exporter": "python",
   "pygments_lexer": "ipython3",
   "version": "3.12.0"
  }
 },
 "nbformat": 4,
 "nbformat_minor": 5
}
