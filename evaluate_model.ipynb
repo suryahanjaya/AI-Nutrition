{
 "cells": [
  {
   "cell_type": "markdown",
   "id": "7d2e8970",
   "metadata": {},
   "source": [
    "evaluate_model.py"
   ]
  },
  {
   "cell_type": "code",
   "execution_count": null,
   "id": "960a5e40",
   "metadata": {},
   "outputs": [],
   "source": [
    "from tensorflow.keras.models import load_model\n",
    "from tensorflow.keras.preprocessing.image import ImageDataGenerator"
   ]
  },
  {
   "cell_type": "code",
   "execution_count": null,
   "id": "bf8eecbd",
   "metadata": {},
   "outputs": [],
   "source": [
    "# Load the trained model\n",
    "model = load_model(\"best_model.keras\")  # Use the model you want to evaluate"
   ]
  },
  {
   "cell_type": "code",
   "execution_count": null,
   "id": "406554bf",
   "metadata": {},
   "outputs": [],
   "source": [
    "# Set up the test data generator (make sure you have the test images available)\n",
    "test_datagen = ImageDataGenerator(rescale=1./255)\n",
    "test_generator = test_datagen.flow_from_directory(\n",
    "    r'C:\\Users\\ASUS ZENBOOK\\Desktop\\Fast Food Classification V2\\Test',  # Replace with the correct path to your test data\n",
    "    target_size=(224, 224),  # Image size used for model training\n",
    "    batch_size=32,\n",
    "    class_mode='categorical',\n",
    "    shuffle=False\n",
    ")"
   ]
  },
  {
   "cell_type": "code",
   "execution_count": null,
   "id": "48c77b6a",
   "metadata": {},
   "outputs": [],
   "source": [
    "# Evaluate the model on test data\n",
    "test_loss, test_accuracy = model.evaluate(test_generator)\n",
    "print(f\"Test Accuracy: {test_accuracy * 100:.2f}%\")"
   ]
  }
 ],
 "metadata": {
  "jupytext": {
   "cell_metadata_filter": "-all",
   "main_language": "python",
   "notebook_metadata_filter": "-all"
  }
 },
 "nbformat": 4,
 "nbformat_minor": 5
}
